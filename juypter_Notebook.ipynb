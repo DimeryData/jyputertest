{
 "cells": [
  {
   "cell_type": "markdown",
   "id": "d20d94c6-f15a-4e8c-be14-682ce7561632",
   "metadata": {},
   "source": [
    "## __A/B Testing with Seaborn's Dataset__\n",
    "### Object:\n",
    "Perform an A/B test to comparte the average tip amounts given on weekdays versus weekends and dermine if there's a significant difference between the two groups. \n",
    "\n",
    "## Steps: \n",
    "1. __Load the Data__ : Load the tips dataset from Seaborn.\n",
    "\n",
    "2. __Data Exploration__: Explore the dataset to understand its structure and identify the groups for A/B testing. \n",
    "\n",
    "3. __Hypothesis Testing__: Using t-test to compate the means of the two groups. \n",
    "\n",
    "4. __Visualization__: Visualize the data to understand the distribution of tips between the groups.\n",
    "\n",
    "5. __Interpretation__: Analyze the results to see if the difference is statistically significant. "
   ]
  },
  {
   "cell_type": "code",
   "execution_count": null,
   "id": "5c883c94-bbba-40a4-90aa-fd9a258079c4",
   "metadata": {},
   "outputs": [],
   "source": [
    "print(\"Fear of committing. Relearning Git.\")"
   ]
  },
  {
   "cell_type": "markdown",
   "id": "c4a98d9f",
   "metadata": {},
   "source": []
  }
 ],
 "metadata": {
  "kernelspec": {
   "display_name": "Python 3",
   "language": "python",
   "name": "python3"
  },
  "language_info": {
   "codemirror_mode": {
    "name": "ipython",
    "version": 3
   },
   "file_extension": ".py",
   "mimetype": "text/x-python",
   "name": "python",
   "nbconvert_exporter": "python",
   "pygments_lexer": "ipython3",
   "version": "3.13.0"
  }
 },
 "nbformat": 4,
 "nbformat_minor": 5
}
