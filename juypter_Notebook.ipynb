{
 "cells": [
  {
   "cell_type": "markdown",
   "id": "d20d94c6-f15a-4e8c-be14-682ce7561632",
   "metadata": {},
   "source": [
    "## __A/B Testing with Seaborn's Dataset__\n",
    "### Object:\n",
    "Perform an A/B test to comparte the average tip amounts given on weekdays versus weekends and dermine if there's a significant difference between the two groups. \n",
    "\n",
    "## Steps: \n",
    "1. __Load the Data__ : Load the tips dataset from Seaborn.\n",
    "\n",
    "2. __Data Exploration__: Explore the dataset to understand its structure and identify the groups for A/B testing. \n",
    "\n",
    "3. __Hypothesis Testing__: Using t-test to compate the means of the two groups. \n",
    "\n",
    "4. __Visualization__: Visualize the data to understand the distribution of tips between the groups.\n",
    "\n",
    "5. __Interpretation__: Analyze the results to see if the difference is statistically significant. "
   ]
  },
  {
   "cell_type": "markdown",
   "id": "5c883c94-bbba-40a4-90aa-fd9a258079c4",
   "metadata": {},
   "source": [
    "## __Step 1: Load the Data__"
   ]
  },
  {
   "cell_type": "code",
   "execution_count": 7,
   "id": "c4a98d9f",
   "metadata": {},
   "outputs": [
    {
     "name": "stdout",
     "output_type": "stream",
     "text": [
      "   total_bill   tip     sex smoker  day    time  size\n",
      "0       16.99  1.01  Female     No  Sun  Dinner     2\n",
      "1       10.34  1.66    Male     No  Sun  Dinner     3\n",
      "2       21.01  3.50    Male     No  Sun  Dinner     3\n",
      "3       23.68  3.31    Male     No  Sun  Dinner     2\n",
      "4       24.59  3.61  Female     No  Sun  Dinner     4\n"
     ]
    }
   ],
   "source": [
    "import seaborn as sns\n",
    "import pandas as pd\n",
    "import numpy as np\n",
    "import matplotlib.pyplot as plt \n",
    "from scipy import stats\n",
    "\n",
    "# Load the Tips dataset from Seaborn\n",
    "tips = sns.load_dataset('tips')\n",
    "\n",
    "# Display the first few rows of the dataset\n",
    "print(tips.head())"
   ]
  },
  {
   "cell_type": "markdown",
   "id": "b94eab8a",
   "metadata": {},
   "source": [
    "### Dataset Structure: The __tips__ dataset contains the following columns : \n",
    "    - total_bill: Total bill amount\n",
    "    - tip: Tip amount given by the customer\n",
    "    - sex: Gender of the customer\n",
    "    - smoker: Whether the customer is a smoker or not\n",
    "    - day: Day of the week (eg. Thurs, Fri, Sat, Sun)\n",
    "    - time: Time of Day (Lunch or Dinner)\n",
    "    - size: Size of the party (number of people at the table)\n",
    "## __Step 2: Data Exploration__\n",
    "For this A/B test, we'll compare the average tip amounts on weekdays, versus weekends. So we will need to create two groups based on the day column."
   ]
  },
  {
   "cell_type": "code",
   "execution_count": 8,
   "id": "a43cff84",
   "metadata": {},
   "outputs": [
    {
     "name": "stdout",
     "output_type": "stream",
     "text": [
      "weekend\n",
      "Weekend    163\n",
      "Weekday     81\n",
      "Name: count, dtype: int64\n",
      "         count      mean       std  min  25%  50%    75%   max\n",
      "weekend                                                       \n",
      "Weekday   81.0  2.762840  1.186163  1.0  2.0  2.5  3.400   6.7\n",
      "Weekend  163.0  3.115276  1.461296  1.0  2.0  3.0  3.695  10.0\n"
     ]
    }
   ],
   "source": [
    "# Create a new column 'weekend' to classify the days as 'Weekday' or 'Weekend'\n",
    "tips['weekend'] = tips['day'].apply(lambda x: 'Weekend' if x in ['Sat', 'Sun']else 'Weekday')\n",
    "\n",
    "# Check the distrubtion of the new 'weekend' column\n",
    "print(tips['weekend'].value_counts())\n",
    "\n",
    "# Summary stats for the tips by group\n",
    "print(tips.groupby('weekend')['tip'].describe())"
   ]
  }
 ],
 "metadata": {
  "kernelspec": {
   "display_name": "Python 3",
   "language": "python",
   "name": "python3"
  },
  "language_info": {
   "codemirror_mode": {
    "name": "ipython",
    "version": 3
   },
   "file_extension": ".py",
   "mimetype": "text/x-python",
   "name": "python",
   "nbconvert_exporter": "python",
   "pygments_lexer": "ipython3",
   "version": "3.13.0"
  }
 },
 "nbformat": 4,
 "nbformat_minor": 5
}
